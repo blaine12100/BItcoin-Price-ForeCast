{
 "cells": [
  {
   "cell_type": "code",
   "execution_count": 12,
   "metadata": {
    "collapsed": true
   },
   "outputs": [],
   "source": [
    "import numpy as np\n",
    "import pandas as pd\n",
    "import seaborn as sns\n",
    "import matplotlib.pyplot as plt\n",
    "\n",
    "pd.options.mode.use_inf_as_na = True"
   ]
  },
  {
   "cell_type": "code",
   "execution_count": 2,
   "metadata": {},
   "outputs": [
    {
     "name": "stdout",
     "output_type": "stream",
     "text": [
      "\n",
      "Please wait a moment while I gather a list of all available modules...\n",
      "\n"
     ]
    },
    {
     "name": "stderr",
     "output_type": "stream",
     "text": [
      "M:\\AnacondaPython\\lib\\site-packages\\IPython\\kernel\\__init__.py:13: ShimWarning: The `IPython.kernel` package has been deprecated since IPython 4.0.You should import from ipykernel or jupyter_client instead.\n",
      "  \"You should import from ipykernel or jupyter_client instead.\", ShimWarning)\n",
      "M:\\AnacondaPython\\lib\\site-packages\\h5py\\__init__.py:34: FutureWarning: Conversion of the second argument of issubdtype from `float` to `np.floating` is deprecated. In future, it will be treated as `np.float64 == np.dtype(float).type`.\n",
      "  from ._conv import register_converters as _register_converters\n",
      "M:\\AnacondaPython\\lib\\site-packages\\odo\\backends\\pandas.py:94: FutureWarning: pandas.tslib is deprecated and will be removed in a future version.\n",
      "You can access NaTType as type(pandas.NaT)\n",
      "  @convert.register((pd.Timestamp, pd.Timedelta), (pd.tslib.NaTType, type(None)))\n",
      "M:\\AnacondaPython\\lib\\site-packages\\blaze\\server\\server.py:17: ExtDeprecationWarning: Importing flask.ext.cors is deprecated, use flask_cors instead.\n",
      "  from flask.ext.cors import cross_origin\n",
      "M:\\AnacondaPython\\lib\\site-packages\\bokeh\\util\\deprecation.py:34: BokehDeprecationWarning: MPL compatibility can no longer be successfully maintained, and is now deprecated. All MPL compat functions will be removed completely on the release of Bokeh 1.0. See http://bokeh.pydata.org/en/latest/docs/releases/0.12.5.html for more information\n",
      "  warn(message)\n",
      "M:\\AnacondaPython\\lib\\site-packages\\matplotlib\\cbook.py:136: MatplotlibDeprecationWarning: The matplotlib.delaunay module was deprecated in version 1.4. Use matplotlib.tri.Triangulation instead.\n",
      "  warnings.warn(message, mplDeprecation, stacklevel=1)\n",
      "M:\\AnacondaPython\\lib\\site-packages\\nltk\\twitter\\__init__.py:20: UserWarning: The twython library has not been installed. Some functionality from the twitter package will not be available.\n",
      "  warnings.warn(\"The twython library has not been installed. \"\n",
      "M:\\AnacondaPython\\lib\\site-packages\\skimage\\viewer\\utils\\core.py:10: UserWarning: Recommended matplotlib backend is `Agg` for full skimage.viewer functionality.\n",
      "  warn(\"Recommended matplotlib backend is `Agg` for full \"\n",
      "M:\\AnacondaPython\\lib\\site-packages\\qtawesome\\iconic_font.py:268: UserWarning: You need to have a running QApplication to use QtAwesome!\n",
      "  warnings.warn(\"You need to have a running \"\n",
      "M:\\AnacondaPython\\lib\\site-packages\\statsmodels\\compat\\pandas.py:56: FutureWarning: The pandas.core.datetools module is deprecated and will be removed in a future version. Please use the pandas.tseries module instead.\n",
      "  from pandas.core import datetools\n"
     ]
    },
    {
     "name": "stdout",
     "output_type": "stream",
     "text": [
      "_cffi_ext.c\n",
      "M:\\AnacondaPython\\lib\\site-packages\\zmq\\backend\\cffi\\__pycache__\\_cffi_ext.c(209): fatal error C1083: Cannot open include file: 'sys/un.h': No such file or directory\n",
      "Crypto              cgitb               mpmath              spyder_pylint\n",
      "Cython              chardet             msgpack             sqlalchemy\n",
      "IPython             chunk               msilib              sqlite3\n",
      "OleFileIO_PL        click               msvcrt              sre_compile\n",
      "OpenSSL             cloudpickle         multipledispatch    sre_constants\n",
      "PIL                 clyent              multiprocessing     sre_parse\n",
      "PyQt5               cmath               navigator_updater   ssl\n",
      "__future__          cmd                 nbconvert           sspi\n",
      "_ast                code                nbformat            sspicon\n",
      "_asyncio            codecs              netbios             stat\n",
      "_bisect             codeop              netrc               statistics\n",
      "_blake2             collections         networkx            statsmodels\n",
      "_bootlocale         colorama            nltk                storemagic\n",
      "_bz2                colorsys            nntplib             string\n",
      "_cffi_backend       commctrl            nose                stringprep\n",
      "_codecs             compileall          notebook            struct\n",
      "_codecs_cn          comtypes            nt                  subprocess\n",
      "_codecs_hk          concurrent          ntpath              sunau\n",
      "_codecs_iso2022     conda               ntsecuritycon       symbol\n",
      "_codecs_jp          conda_env           nturl2path          sympy\n",
      "_codecs_kr          configparser        numba               sympyprinting\n",
      "_codecs_tw          contextlib          numbers             symtable\n",
      "_collections        contextlib2         numexpr             sys\n",
      "_collections_abc    copy                numpy               sysconfig\n",
      "_compat_pickle      copyreg             numpydoc            tables\n",
      "_compression        crypt               odbc                tabnanny\n",
      "_csv                cryptography        odo                 tarfile\n",
      "_ctypes             csv                 olefile             tblib\n",
      "_ctypes_test        ctypes              opcode              telnetlib\n",
      "_datetime           curl                openpyxl            tempfile\n",
      "_decimal            curses              operator            test\n",
      "_dummy_thread       cwp                 optparse            test_path\n",
      "_elementtree        cycler              os                  test_pycosat\n",
      "_functools          cython              packaging           testpath\n",
      "_hashlib            cythonmagic         pandas              tests\n",
      "_heapq              cytoolz             pandocfilters       textwrap\n",
      "_imp                dask                parser              this\n",
      "_io                 datashape           parso               threading\n",
      "_json               datetime            partd               time\n",
      "_license            dateutil            path                timeit\n",
      "_locale             dbi                 pathlib             timer\n",
      "_lsprof             dbm                 pathlib2            tkinter\n",
      "_lzma               dde                 patsy               tlz\n",
      "_markupbase         decimal             pdb                 token\n",
      "_md5                decorator           pep8                tokenize\n",
      "_msi                difflib             perfmon             toolz\n",
      "_multibytecodec     dis                 pickle              tornado\n",
      "_multiprocessing    distributed         pickleshare         trace\n",
      "_nsis               distutils           pickletools         traceback\n",
      "_opcode             doctest             pip                 tracemalloc\n",
      "_operator           docutils            pipes               traitlets\n",
      "_osx_support        dummy_threading     pkg_resources       tty\n",
      "_overlapped         easy_install        pkgutil             turtle\n",
      "_pickle             email               platform            turtledemo\n",
      "_pydecimal          encodings           plistlib            types\n",
      "_pyio               ensurepip           ply                 typing\n",
      "_pytest             entrypoints         poplib              unicodecsv\n",
      "_random             enum                posixpath           unicodedata\n",
      "_sha1               errno               pprint              unittest\n",
      "_sha256             et_xmlfile          profile             urllib\n",
      "_sha3               fastcache           prompt_toolkit      uu\n",
      "_sha512             faulthandler        pstats              uuid\n",
      "_signal             filecmp             psutil              venv\n",
      "_sitebuiltins       fileinput           pty                 warnings\n",
      "_socket             flask               py                  wave\n",
      "_sqlite3            flask_cors          py_compile          wcwidth\n",
      "_sre                fnmatch             pyclbr              weakref\n",
      "_ssl                formatter           pycosat             webbrowser\n",
      "_stat               fractions           pycparser           werkzeug\n",
      "_string             ftplib              pycurl              wheel\n",
      "_strptime           functools           pydoc               widgetsnbextension\n",
      "_struct             gc                  pydoc_data          win2kras\n",
      "_symtable           genericpath         pyexpat             win32api\n",
      "_system_path        getopt              pyflakes            win32clipboard\n",
      "_testbuffer         getpass             pygments            win32com\n",
      "_testcapi           gettext             pylab               win32con\n",
      "_testconsole        gevent              pylint              win32console\n",
      "_testimportmultiple glob                pyodbc              win32cred\n",
      "_testmultiphase     greenlet            pyparsing           win32crypt\n",
      "_thread             gzip                pytest              win32cryptcon\n",
      "_threading_local    h5py                pythoncom           win32event\n",
      "_tkinter            hashlib             pytz                win32evtlog\n",
      "_tracemalloc        heapdict            pywin               win32evtlogutil\n",
      "_warnings           heapq               pywin32_testutil    win32file\n",
      "_weakref            hmac                pywintypes          win32gui\n",
      "_weakrefset         html                pywt                win32gui_struct\n",
      "_win32sysloader     html5lib            pyximport           win32help\n",
      "_winapi             http                qtawesome           win32inet\n",
      "_winxptheme         idlelib             qtconsole           win32inetcon\n",
      "abc                 idna                qtpy                win32job\n",
      "adodbapi            imagesize           queue               win32lz\n",
      "afxres              imaplib             quopri              win32net\n",
      "aifc                imghdr              random              win32netcon\n",
      "alabaster           imp                 rasutil             win32pdh\n",
      "anaconda_navigator  importlib           re                  win32pdhquery\n",
      "anaconda_project    inspect             regcheck            win32pdhutil\n",
      "antigravity         io                  regutil             win32pipe\n",
      "argparse            ipaddress           reprlib             win32print\n",
      "array               ipykernel           requests            win32process\n",
      "asn1crypto          ipykernel_launcher  rlcompleter         win32profile\n",
      "ast                 ipython_genutils    rmagic              win32ras\n",
      "astroid             ipywidgets          rope                win32rcparser\n",
      "astropy             isapi               ruamel_yaml         win32security\n",
      "asynchat            isort               run                 win32service\n",
      "asyncio             itertools           runpy               win32serviceutil\n",
      "asyncore            itsdangerous        sched               win32timezone\n",
      "atexit              jdcal               scipy               win32trace\n",
      "audioop             jedi                scripts             win32traceutil\n",
      "autoreload          jinja2              seaborn             win32transaction\n",
      "babel               json                secrets             win32ts\n",
      "backcall            jsonschema          select              win32ui\n",
      "backports           jupyter             selectors           win32uiole\n",
      "base64              jupyter_client      servicemanager      win32verstamp\n",
      "bdb                 jupyter_console     setuptools          win32wnet\n",
      "binascii            jupyter_core        shelve              win_unicode_console\n",
      "binhex              keyword             shlex               winerror\n",
      "binstar_client      lazy_object_proxy   shutil              winioctlcon\n",
      "bisect              lib2to3             signal              winnt\n",
      "bitarray            linecache           simplegeneric       winperf\n",
      "blaze               llvmlite            singledispatch      winreg\n",
      "bleach              locale              singledispatch_helpers winsound\n",
      "bokeh               locket              sip                 winxpgui\n",
      "boto                logging             sipconfig           winxptheme\n",
      "bottleneck          lxml                sipdistutils        wrapt\n",
      "brain_builtin_inference lzma                site                wsgiref\n",
      "brain_dateutil      macpath             six                 xdrlib\n",
      "brain_gi            macurl2path         skimage             xlrd\n",
      "brain_mechanize     mailbox             sklearn             xlsxwriter\n",
      "brain_nose          mailcap             smtpd               xlwings\n",
      "brain_numpy         markupsafe          smtplib             xlwt\n",
      "brain_pytest        marshal             sndhdr              xml\n",
      "brain_qt            math                snowballstemmer     xmlrpc\n",
      "brain_six           matplotlib          socket              xxsubtype\n",
      "brain_ssl           menuinst            socketserver        yaml\n",
      "brain_stdlib        mimetypes           sortedcollections   zict\n",
      "bs4                 mistune             sortedcontainers    zipapp\n",
      "builtins            mkl                 sphinx              zipfile\n",
      "bz2                 mmap                spyder              zipimport\n",
      "cProfile            mmapfile            spyder_breakpoints  zlib\n",
      "calendar            mmsystem            spyder_io_dcm       zmq\n",
      "cffi                modulefinder        spyder_io_hdf5      \n",
      "cgi                 mpl_toolkits        spyder_profiler     \n",
      "\n",
      "Enter any module name to get more help.  Or, type \"modules spam\" to search\n",
      "for modules whose name or summary contain the string \"spam\".\n",
      "\n"
     ]
    }
   ],
   "source": [
    "help('modules')"
   ]
  },
  {
   "cell_type": "code",
   "execution_count": 2,
   "metadata": {
    "collapsed": true
   },
   "outputs": [],
   "source": [
    "training_set=pd.read_csv('M:/PycharmProjects/MLCourse+OnlyProjects/bitstampUSD 2012-2018.csv')\n",
    "\n",
    "testing_set=pd.read_csv('M:/PycharmProjects/MLCourse+OnlyProjects/Testing Data 2017-2018 06.csv')"
   ]
  },
  {
   "cell_type": "code",
   "execution_count": 4,
   "metadata": {},
   "outputs": [
    {
     "name": "stdout",
     "output_type": "stream",
     "text": [
      "Top of Dataset \n",
      "     Timestamp  Open  High   Low  Close  Volume_(BTC)  Volume_(Currency)  \\\n",
      "0  1325317920  4.39  4.39  4.39   4.39      0.455581                2.0   \n",
      "1  1325317980  4.39  4.39  4.39   4.39      0.455581                2.0   \n",
      "2  1325318040  4.39  4.39  4.39   4.39      0.455581                2.0   \n",
      "3  1325318100  4.39  4.39  4.39   4.39      0.455581                2.0   \n",
      "4  1325318160  4.39  4.39  4.39   4.39      0.455581                2.0   \n",
      "\n",
      "   Weighted_Price  \n",
      "0            4.39  \n",
      "1            4.39  \n",
      "2            4.39  \n",
      "3            4.39  \n",
      "4            4.39  \n",
      "Bottom of Dataset \n",
      "           Timestamp     Open     High      Low    Close  Volume_(BTC)  \\\n",
      "3405852  1530057360  6061.61  6079.52  6060.99  6079.52      2.358001   \n",
      "3405853  1530057420  6078.44  6080.11  6067.64  6071.83     13.946659   \n",
      "3405854  1530057480  6079.15  6085.53  6070.10  6084.69      5.174984   \n",
      "3405855  1530057540  6082.21  6086.86  6068.00  6068.00     14.482301   \n",
      "3405856  1530057600  6073.99  6075.41  6064.56  6070.79     23.511004   \n",
      "\n",
      "         Volume_(Currency)  Weighted_Price  \n",
      "3405852       14326.055851     6075.509043  \n",
      "3405853       84697.288617     6072.944713  \n",
      "3405854       31447.423127     6076.815504  \n",
      "3405855       88000.380333     6076.408637  \n",
      "3405856      142706.803850     6069.787707  \n",
      "Top of Testing Set \n",
      "     Timestamp    Open    High     Low   Close  Volume_(BTC)  \\\n",
      "0  1499155260  296127  296558  296016  296540      1.158600   \n",
      "1  1499155320  296539  296769  296060  296679     11.115510   \n",
      "2  1499155380  296060  296090  296060  296060      5.527494   \n",
      "3  1499155440  296060  296260  296015  296015      8.414064   \n",
      "4  1499155500  296361  296540  296155  296155      3.993010   \n",
      "\n",
      "   Volume_(Currency)  Weighted_Price  \n",
      "0       3.432441e+05    296257.67168  \n",
      "1       3.295332e+06    296462.51372  \n",
      "2       1.636491e+06    296063.83615  \n",
      "3       2.491620e+06    296125.66780  \n",
      "4       1.183292e+06    296340.78573  \n",
      "Bottom of Dataset \n",
      "          Timestamp    Open    High     Low   Close  Volume_(BTC)  \\\n",
      "511570  1530057360  672644  673201  672488  673201      1.495392   \n",
      "511571  1530057420  673186  673398  672932  673222      3.822501   \n",
      "511572  1530057480  673326  673982  673106  673982      2.411983   \n",
      "511573  1530057540  673880  673880  672895  673064      1.697200   \n",
      "511574  1530057600  673062  673062  672008  672008      2.717647   \n",
      "\n",
      "        Volume_(Currency)  Weighted_Price  \n",
      "511570       1.006435e+06    673024.32867  \n",
      "511571       2.573162e+06    673161.72039  \n",
      "511572       1.624573e+06    673542.40690  \n",
      "511573       1.143471e+06    673739.90475  \n",
      "511574       1.827341e+06    672398.34050  \n"
     ]
    }
   ],
   "source": [
    "'''Printing First and Last 5 Rows to check if everything is loaded properly.'''\n",
    "\n",
    "print(\"Top of Dataset \\n\",training_set.head(5))\n",
    "\n",
    "print(\"Bottom of Dataset \\n\",training_set.tail(5))\n",
    "\n",
    "print(\"Top of Testing Set \\n\",testing_set.head(5))\n",
    "\n",
    "print(\"Bottom of Dataset \\n\",testing_set.tail(5))"
   ]
  },
  {
   "cell_type": "code",
   "execution_count": 9,
   "metadata": {},
   "outputs": [
    {
     "name": "stdout",
     "output_type": "stream",
     "text": [
      "Timestamp              int64\n",
      "Open                 float64\n",
      "High                 float64\n",
      "Low                  float64\n",
      "Close                float64\n",
      "Volume_(BTC)         float64\n",
      "Volume_(Currency)    float64\n",
      "Weighted_Price       float64\n",
      "dtype: object\n",
      "Timestamp              int64\n",
      "Open                 float64\n",
      "High                 float64\n",
      "Low                  float64\n",
      "Close                float64\n",
      "Volume_(BTC)         float64\n",
      "Volume_(Currency)    float64\n",
      "Weighted_Price       float64\n",
      "dtype: object\n"
     ]
    },
    {
     "data": {
      "text/plain": [
       "'All types are proper.So no Conversion Needed.'"
      ]
     },
     "execution_count": 9,
     "metadata": {},
     "output_type": "execute_result"
    }
   ],
   "source": [
    "'''Check Data Type of columns and replace accordingly and change accordingly.'''\n",
    "\n",
    "print(training_set.dtypes)\n",
    "\n",
    "testing_set[['Open','High','Low','Close']]=testing_set[['Open','High','Low','Close']].astype(np.float64)\n",
    "\n",
    "print(testing_set.dtypes)\n",
    "'''All types are proper.So no Conversion Needed.'''"
   ]
  },
  {
   "cell_type": "code",
   "execution_count": 10,
   "metadata": {},
   "outputs": [
    {
     "name": "stdout",
     "output_type": "stream",
     "text": [
      "False    27246856\n",
      "dtype: int64\n",
      "False    4092600\n",
      "dtype: int64\n",
      "None\n"
     ]
    }
   ],
   "source": [
    "'''Checking if Any Column has any Nan value and to generate a frequency chart for true and false values(Dataset is clean!!!)'''\n",
    "counts=pd.isna(training_set)\n",
    "\n",
    "print(pd.value_counts(counts.values.ravel()))\n",
    "\n",
    "'''Check for Testing Set'''\n",
    "\n",
    "testing_count=pd.isna(testing_set)\n",
    "\n",
    "print(print(pd.value_counts(testing_count.values.ravel())))"
   ]
  },
  {
   "cell_type": "code",
   "execution_count": 21,
   "metadata": {},
   "outputs": [
    {
     "data": {
      "image/png": "[encoded data removed]",
      "text/plain": [
       "<matplotlib.figure.Figure at 0x174d208d438>"
      ]
     },
     "metadata": {},
     "output_type": "display_data"
    }
   ],
   "source": [
    "'''Graphs.Basic Analysis And Inference Observed From Those Graphs'''\n",
    "\n",
    "# print(training_set.describe())\n",
    "\n",
    "'''Graph Between Time and the Highest Price in That Day Graph'''\n",
    "\n",
    "# sns.tsplot((training_set['Timestamp']).unique(),training_set['High'])\n",
    "plt.plot(training_set['Timestamp'],training_set['High'])\n",
    "plt.show()\n",
    "\n",
    "'''Price of Bitcoin has increased till 2017 and has started to decrease in later 2017'''"
   ]
  },
  {
   "cell_type": "code",
   "execution_count": null,
   "metadata": {
    "collapsed": true
   },
   "outputs": [],
   "source": []
  }
 ],
 "metadata": {
  "kernelspec": {
   "display_name": "Python 3",
   "language": "python",
   "name": "python3"
  },
  "language_info": {
   "codemirror_mode": {
    "name": "ipython",
    "version": 3
   },
   "file_extension": ".py",
   "mimetype": "text/x-python",
   "name": "python",
   "nbconvert_exporter": "python",
   "pygments_lexer": "ipython3",
   "version": "3.6.1"
  }
 },
 "nbformat": 4,
 "nbformat_minor": 1
}
